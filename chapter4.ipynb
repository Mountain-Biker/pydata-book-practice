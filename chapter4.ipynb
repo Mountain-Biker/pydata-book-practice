{
  "nbformat": 4,
  "nbformat_minor": 0,
  "metadata": {
    "colab": {
      "provenance": []
    },
    "kernelspec": {
      "name": "python3",
      "display_name": "Python 3"
    },
    "language_info": {
      "name": "python"
    }
  },
  "cells": [
    {
      "cell_type": "markdown",
      "source": [
        "# Chapter 4 NumPy Basics: Array and Vectorized Computation"
      ],
      "metadata": {
        "id": "QPJoDL8YRAWo"
      }
    },
    {
      "cell_type": "markdown",
      "source": [
        "## 4.1 The NumPy ndarray: A Multidimensional Array Object"
      ],
      "metadata": {
        "id": "okcA86pYZZig"
      }
    },
    {
      "cell_type": "code",
      "execution_count": 1,
      "metadata": {
        "id": "ZAZ8GbQZQ9vD"
      },
      "outputs": [],
      "source": [
        "import numpy as np"
      ]
    },
    {
      "cell_type": "code",
      "source": [
        "data = np.array([[1.5, -0.1, 3], [0, -3, 6.5]])\n",
        "data"
      ],
      "metadata": {
        "colab": {
          "base_uri": "https://localhost:8080/"
        },
        "id": "NSL0H4xGXRK8",
        "outputId": "e8aab27f-0f12-411d-bec1-1cb31ea9a232"
      },
      "execution_count": 2,
      "outputs": [
        {
          "output_type": "execute_result",
          "data": {
            "text/plain": [
              "array([[ 1.5, -0.1,  3. ],\n",
              "       [ 0. , -3. ,  6.5]])"
            ]
          },
          "metadata": {},
          "execution_count": 2
        }
      ]
    },
    {
      "cell_type": "code",
      "source": [
        "print(data.shape)\n",
        "print(data.dtype)\n",
        "print(type(data))"
      ],
      "metadata": {
        "colab": {
          "base_uri": "https://localhost:8080/"
        },
        "id": "J8gRtxkGXkf-",
        "outputId": "de015e97-b941-46e4-b0d6-54f18bea0a56"
      },
      "execution_count": 3,
      "outputs": [
        {
          "output_type": "stream",
          "name": "stdout",
          "text": [
            "(2, 3)\n",
            "float64\n",
            "<class 'numpy.ndarray'>\n"
          ]
        }
      ]
    },
    {
      "cell_type": "markdown",
      "source": [
        "### Creating ndarrays"
      ],
      "metadata": {
        "id": "2pZJ_DlYZmqk"
      }
    },
    {
      "cell_type": "code",
      "source": [
        "data1 = [6, 7.5, 8, 0, 1]\n",
        "arr1 = np.array(data1)"
      ],
      "metadata": {
        "id": "i0n2AMoiXtGL"
      },
      "execution_count": 4,
      "outputs": []
    }
  ]
}