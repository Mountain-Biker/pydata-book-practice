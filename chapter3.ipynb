{
  "cells": [
    {
      "cell_type": "markdown",
      "metadata": {
        "id": "wBamPNh0B0TW"
      },
      "source": [
        "# Chapter 3 Data Structure and Sequence\n"
      ]
    },
    {
      "cell_type": "code",
      "source": [
        "from google.colab import drive\n",
        "drive.mount('/content/drive')"
      ],
      "metadata": {
        "colab": {
          "base_uri": "https://localhost:8080/"
        },
        "id": "nrG4lqIpGX82",
        "outputId": "1632c4d5-2586-4c21-ef2e-a8c0b22eafa7"
      },
      "execution_count": null,
      "outputs": [
        {
          "output_type": "stream",
          "name": "stdout",
          "text": [
            "Mounted at /content/drive\n"
          ]
        }
      ]
    },
    {
      "cell_type": "code",
      "source": [
        "!ls \"/content/drive/Othercomputers/My MacBook Pro/python_for_data_analysis/examples\""
      ],
      "metadata": {
        "colab": {
          "base_uri": "https://localhost:8080/"
        },
        "id": "R_fzwUqdGlNi",
        "outputId": "50682d1d-c486-4f17-cbea-4c26062d409b"
      },
      "execution_count": null,
      "outputs": [
        {
          "output_type": "stream",
          "name": "stdout",
          "text": [
            "array_ex.txt\tex3.txt  example.json\t\t     spx.csv\t    tseries.csv\n",
            "csv_mindex.csv\tex4.csv  fdic_failed_bank_list.html  stinkbug.png   volume.csv\n",
            "ex1.csv\t\tex5.csv  ipython_bug.py\t\t     stock_px.csv   yahoo_price.pkl\n",
            "ex1.xlsx\tex6.csv  macrodata.csv\t\t     test_file.csv  yahoo_volume.pkl\n",
            "ex2.csv\t\tex7.csv  segismundo.txt\t\t     tips.csv\n"
          ]
        }
      ]
    },
    {
      "cell_type": "markdown",
      "metadata": {
        "id": "Hdzz9e1MB0TX"
      },
      "source": [
        "## 3.1 Data Structures and Sequences"
      ]
    },
    {
      "cell_type": "markdown",
      "source": [
        "### Tuple"
      ],
      "metadata": {
        "id": "y4H8SOdeZKRf"
      }
    },
    {
      "cell_type": "code",
      "source": [
        "tup = tuple(['foo', [1, 2], True])"
      ],
      "metadata": {
        "id": "cdlhu5dpVu6W"
      },
      "execution_count": null,
      "outputs": []
    },
    {
      "cell_type": "code",
      "source": [
        "# once a tuple is created, it's not possible to modify which object is stored in each slot\n",
        "tup[2] = False"
      ],
      "metadata": {
        "colab": {
          "base_uri": "https://localhost:8080/",
          "height": 144
        },
        "id": "SXsm1zvuYQwr",
        "outputId": "a9071864-6753-40a2-eac5-d2384f896b0a"
      },
      "execution_count": null,
      "outputs": [
        {
          "output_type": "error",
          "ename": "TypeError",
          "evalue": "'tuple' object does not support item assignment",
          "traceback": [
            "\u001b[0;31m---------------------------------------------------------------------------\u001b[0m",
            "\u001b[0;31mTypeError\u001b[0m                                 Traceback (most recent call last)",
            "\u001b[0;32m<ipython-input-28-b89d0c4ae599>\u001b[0m in \u001b[0;36m<cell line: 1>\u001b[0;34m()\u001b[0m\n\u001b[0;32m----> 1\u001b[0;31m \u001b[0mtup\u001b[0m\u001b[0;34m[\u001b[0m\u001b[0;36m2\u001b[0m\u001b[0;34m]\u001b[0m \u001b[0;34m=\u001b[0m \u001b[0;32mFalse\u001b[0m\u001b[0;34m\u001b[0m\u001b[0;34m\u001b[0m\u001b[0m\n\u001b[0m",
            "\u001b[0;31mTypeError\u001b[0m: 'tuple' object does not support item assignment"
          ]
        }
      ]
    },
    {
      "cell_type": "code",
      "source": [
        "# But if an element in a tuple is mutable, we can modify the element\n",
        "tup[1].append(3)\n",
        "print(tup)"
      ],
      "metadata": {
        "id": "gRf9dzqNX7Qv"
      },
      "execution_count": null,
      "outputs": []
    },
    {
      "cell_type": "markdown",
      "source": [],
      "metadata": {
        "id": "tTWR5Y3DaTKF"
      }
    },
    {
      "cell_type": "code",
      "source": [
        "tup = (4, 5, 6)\n",
        "a, b, c = tup\n",
        "print(a)"
      ],
      "metadata": {
        "colab": {
          "base_uri": "https://localhost:8080/"
        },
        "id": "S_AcmrflZChy",
        "outputId": "248953ae-c6f1-4b2f-c805-45172292f772"
      },
      "execution_count": null,
      "outputs": [
        {
          "output_type": "stream",
          "name": "stdout",
          "text": [
            "4\n"
          ]
        }
      ]
    },
    {
      "cell_type": "markdown",
      "source": [
        "### List"
      ],
      "metadata": {
        "id": "BohsJidPfesl"
      }
    },
    {
      "cell_type": "code",
      "source": [
        "b_list = ['foo', 'bar', 'baz']"
      ],
      "metadata": {
        "id": "AwEyhTkafh2i"
      },
      "execution_count": null,
      "outputs": []
    },
    {
      "cell_type": "code",
      "source": [
        "b_list.append('peekaboo')\n",
        "print(b_list)"
      ],
      "metadata": {
        "colab": {
          "base_uri": "https://localhost:8080/"
        },
        "id": "iHH3PDgVlIJF",
        "outputId": "75936e94-023d-4c2e-fb2c-045d25ba8af1"
      },
      "execution_count": null,
      "outputs": [
        {
          "output_type": "stream",
          "name": "stdout",
          "text": [
            "['foo', 'bar', 'baz', 'peekaboo']\n"
          ]
        }
      ]
    },
    {
      "cell_type": "code",
      "source": [
        "b_list.insert(1, 'apple')\n",
        "print(b_list)"
      ],
      "metadata": {
        "id": "E-bv-QAjlgN0",
        "colab": {
          "base_uri": "https://localhost:8080/"
        },
        "outputId": "dd514914-a02e-48ae-9a35-7e87f1f3a6ce"
      },
      "execution_count": null,
      "outputs": [
        {
          "output_type": "stream",
          "name": "stdout",
          "text": [
            "['foo', 'apple', 'bar', 'baz', 'peekaboo']\n"
          ]
        }
      ]
    },
    {
      "cell_type": "code",
      "source": [
        "b_element = b_list.pop()\n",
        "print(b_element)\n",
        "\n",
        "b_element = b_list.pop(2)\n",
        "print(b_element)"
      ],
      "metadata": {
        "colab": {
          "base_uri": "https://localhost:8080/"
        },
        "id": "7BNnfsM8tXhD",
        "outputId": "9158cf08-bf40-49d2-e1d6-c8ca97452885"
      },
      "execution_count": null,
      "outputs": [
        {
          "output_type": "stream",
          "name": "stdout",
          "text": [
            "peekaboo\n",
            "bar\n"
          ]
        }
      ]
    },
    {
      "cell_type": "code",
      "source": [
        "# concatenating and combining lists\n",
        "# list concatenation by addition is a comparatively expensive operation\n",
        "# as a new list is created after concatenation\n",
        "x = [1, 2, 3]\n",
        "x = x + [4, 5, 6]\n",
        "print(x)"
      ],
      "metadata": {
        "colab": {
          "base_uri": "https://localhost:8080/"
        },
        "id": "DmgBqppluZFo",
        "outputId": "55b2239d-d6af-49ec-d5a0-69ce18f9bdcd"
      },
      "execution_count": null,
      "outputs": [
        {
          "output_type": "stream",
          "name": "stdout",
          "text": [
            "[1, 2, 3, 4, 5, 6]\n"
          ]
        }
      ]
    },
    {
      "cell_type": "code",
      "source": [
        "# extend is less expensive compared with addition\n",
        "x.extend([7, 8, 9])\n",
        "print(x)"
      ],
      "metadata": {
        "colab": {
          "base_uri": "https://localhost:8080/"
        },
        "id": "ttHjfC0_u6ET",
        "outputId": "de00ba70-5bf8-4bed-f21d-332b99b10db9"
      },
      "execution_count": null,
      "outputs": [
        {
          "output_type": "stream",
          "name": "stdout",
          "text": [
            "[1, 2, 3, 4, 5, 6, 7, 8, 9]\n"
          ]
        }
      ]
    },
    {
      "cell_type": "code",
      "source": [
        "# the number after the second colon denote the step of the sequence\n",
        "print(x[::2])"
      ],
      "metadata": {
        "id": "8zRDcYncbXmP",
        "colab": {
          "base_uri": "https://localhost:8080/"
        },
        "outputId": "812afd73-6e45-42d4-de10-6df735c7afab"
      },
      "execution_count": null,
      "outputs": [
        {
          "output_type": "stream",
          "name": "stdout",
          "text": [
            "[1, 3, 5, 7, 9]\n"
          ]
        }
      ]
    },
    {
      "cell_type": "code",
      "source": [
        "print(x[::-1])\n",
        "print(x[-1::-1])"
      ],
      "metadata": {
        "colab": {
          "base_uri": "https://localhost:8080/"
        },
        "id": "6Z2oi6VCAWfc",
        "outputId": "624faedb-ba40-4c77-9475-edaa62ef3616"
      },
      "execution_count": null,
      "outputs": [
        {
          "output_type": "stream",
          "name": "stdout",
          "text": [
            "[9, 8, 7, 6, 5, 4, 3, 2, 1]\n",
            "[9, 8, 7, 6, 5, 4, 3, 2, 1]\n"
          ]
        }
      ]
    },
    {
      "cell_type": "markdown",
      "source": [
        "### Dictionary"
      ],
      "metadata": {
        "id": "0USFkSAIBc4d"
      }
    },
    {
      "cell_type": "code",
      "source": [
        "d1 = {'a': 'some value', 'b': [1, 2, 3, 4]}\n",
        "d1[7] = 'an integer'\n",
        "print(d1)"
      ],
      "metadata": {
        "colab": {
          "base_uri": "https://localhost:8080/"
        },
        "id": "1fnfT-zrBepN",
        "outputId": "1c83479d-ea71-47ca-f39a-7a64b2c4badf"
      },
      "execution_count": null,
      "outputs": [
        {
          "output_type": "stream",
          "name": "stdout",
          "text": [
            "{'a': 'some value', 'b': [1, 2, 3, 4], 7: 'an integer'}\n"
          ]
        }
      ]
    },
    {
      "cell_type": "code",
      "source": [
        "'b' in d1"
      ],
      "metadata": {
        "colab": {
          "base_uri": "https://localhost:8080/"
        },
        "id": "S3XHf5sNEMYI",
        "outputId": "c669f42c-e882-40e2-b812-8bb488567721"
      },
      "execution_count": null,
      "outputs": [
        {
          "output_type": "execute_result",
          "data": {
            "text/plain": [
              "True"
            ]
          },
          "metadata": {},
          "execution_count": 34
        }
      ]
    },
    {
      "cell_type": "code",
      "source": [
        "d1[\"dummy\"] = \"another value\"\n",
        "print(d1)"
      ],
      "metadata": {
        "colab": {
          "base_uri": "https://localhost:8080/"
        },
        "id": "p45azfh0EVFE",
        "outputId": "977dfa73-45fd-48b0-bc96-05f7923a5829"
      },
      "execution_count": null,
      "outputs": [
        {
          "output_type": "stream",
          "name": "stdout",
          "text": [
            "{'a': 'some value', 'b': [1, 2, 3, 4], 7: 'an integer', 'dummy': 'another value'}\n"
          ]
        }
      ]
    },
    {
      "cell_type": "code",
      "source": [
        "ret = d1.pop(\"dummy\")\n",
        "print(ret)\n",
        "print(d1)"
      ],
      "metadata": {
        "colab": {
          "base_uri": "https://localhost:8080/"
        },
        "id": "n-LPZatSEbpS",
        "outputId": "9daa8598-d42b-4d93-cb7a-d6e2d6aaf643"
      },
      "execution_count": null,
      "outputs": [
        {
          "output_type": "stream",
          "name": "stdout",
          "text": [
            "another value\n",
            "{'a': 'some value', 'b': [1, 2, 3, 4], 7: 'an integer'}\n"
          ]
        }
      ]
    },
    {
      "cell_type": "code",
      "source": [
        "del d1['a']\n",
        "print(d1)"
      ],
      "metadata": {
        "colab": {
          "base_uri": "https://localhost:8080/"
        },
        "id": "SZIXkOFNFeXL",
        "outputId": "63214e92-e175-4bd9-c443-e6dd1ee60abe"
      },
      "execution_count": null,
      "outputs": [
        {
          "output_type": "stream",
          "name": "stdout",
          "text": [
            "{'b': [1, 2, 3, 4], 7: 'an integer'}\n"
          ]
        }
      ]
    },
    {
      "cell_type": "code",
      "source": [
        "print(list(d1.keys()))\n",
        "print(list(d1.values()))"
      ],
      "metadata": {
        "colab": {
          "base_uri": "https://localhost:8080/"
        },
        "id": "IiiMOHWBFtXG",
        "outputId": "345ed0a7-648a-4bd6-c9f2-658ee3106700"
      },
      "execution_count": null,
      "outputs": [
        {
          "output_type": "stream",
          "name": "stdout",
          "text": [
            "['b', 7]\n",
            "[[1, 2, 3, 4], 'an integer']\n"
          ]
        }
      ]
    },
    {
      "cell_type": "code",
      "source": [
        "print(list(d1.items()))\n",
        "for key, value in d1.items():\n",
        "  print(key)\n",
        "  print(value)"
      ],
      "metadata": {
        "colab": {
          "base_uri": "https://localhost:8080/"
        },
        "id": "xAwfZKhgF7Zz",
        "outputId": "8fe11348-3c21-41b9-b8e6-a2e0fcceaec1"
      },
      "execution_count": null,
      "outputs": [
        {
          "output_type": "stream",
          "name": "stdout",
          "text": [
            "[('b', [1, 2, 3, 4]), (7, 'an integer')]\n",
            "b\n",
            "[1, 2, 3, 4]\n",
            "7\n",
            "an integer\n"
          ]
        }
      ]
    },
    {
      "cell_type": "code",
      "source": [
        "tuples = zip(range(0,5), reversed(range(0,5)))\n",
        "print(tuples)"
      ],
      "metadata": {
        "colab": {
          "base_uri": "https://localhost:8080/"
        },
        "id": "cCK5Rp3KGV9p",
        "outputId": "7eed0546-f65d-4842-8996-4b61e2b1453c"
      },
      "execution_count": null,
      "outputs": [
        {
          "output_type": "stream",
          "name": "stdout",
          "text": [
            "<zip object at 0x7e11083ff180>\n"
          ]
        }
      ]
    },
    {
      "cell_type": "code",
      "source": [
        "d2 = dict(tuples)\n",
        "print(d2)\n",
        "\n",
        "# zip object can only be used once\n",
        "print(list(tuples))\n",
        "\n",
        "d2 = dict(zip(range(0,5), reversed(range(0,5))))\n",
        "print(d2)"
      ],
      "metadata": {
        "colab": {
          "base_uri": "https://localhost:8080/"
        },
        "id": "vXZjzRk4HLf9",
        "outputId": "a0871b11-650a-48b8-a3ea-70b4bddeb9d5"
      },
      "execution_count": null,
      "outputs": [
        {
          "output_type": "stream",
          "name": "stdout",
          "text": [
            "{0: 4, 1: 3, 2: 2, 3: 1, 4: 0}\n",
            "[]\n",
            "{0: 4, 1: 3, 2: 2, 3: 1, 4: 0}\n"
          ]
        }
      ]
    },
    {
      "cell_type": "code",
      "source": [
        "# the values of a dict can be any Python object\n",
        "# but the keys of a dict can only be immutable objects\n",
        "# to check if an object is immutable or not, we can use hash function\n",
        "print(hash('string'))\n",
        "print(hash(100))\n",
        "print(hash((1, 2, (2, 3))))\n",
        "\n",
        "# list is not an immutable object, or we can say list is unhashable\n",
        "print(hash([1, 2, 3]))"
      ],
      "metadata": {
        "colab": {
          "base_uri": "https://localhost:8080/",
          "height": 233
        },
        "id": "ctCVKAROHTWP",
        "outputId": "373cabce-0fd1-40a0-aaf9-6c5ca55dedfb"
      },
      "execution_count": null,
      "outputs": [
        {
          "output_type": "stream",
          "name": "stdout",
          "text": [
            "115755772960839466\n",
            "100\n",
            "-9209053662355515447\n"
          ]
        },
        {
          "output_type": "error",
          "ename": "TypeError",
          "evalue": "unhashable type: 'list'",
          "traceback": [
            "\u001b[0;31m---------------------------------------------------------------------------\u001b[0m",
            "\u001b[0;31mTypeError\u001b[0m                                 Traceback (most recent call last)",
            "\u001b[0;32m<ipython-input-68-ccb0caac4499>\u001b[0m in \u001b[0;36m<cell line: 9>\u001b[0;34m()\u001b[0m\n\u001b[1;32m      7\u001b[0m \u001b[0;34m\u001b[0m\u001b[0m\n\u001b[1;32m      8\u001b[0m \u001b[0;31m# list is not an immutable object\u001b[0m\u001b[0;34m\u001b[0m\u001b[0;34m\u001b[0m\u001b[0m\n\u001b[0;32m----> 9\u001b[0;31m \u001b[0mprint\u001b[0m\u001b[0;34m(\u001b[0m\u001b[0mhash\u001b[0m\u001b[0;34m(\u001b[0m\u001b[0;34m[\u001b[0m\u001b[0;36m1\u001b[0m\u001b[0;34m,\u001b[0m \u001b[0;36m2\u001b[0m\u001b[0;34m,\u001b[0m \u001b[0;36m3\u001b[0m\u001b[0;34m]\u001b[0m\u001b[0;34m)\u001b[0m\u001b[0;34m)\u001b[0m\u001b[0;34m\u001b[0m\u001b[0;34m\u001b[0m\u001b[0m\n\u001b[0m",
            "\u001b[0;31mTypeError\u001b[0m: unhashable type: 'list'"
          ]
        }
      ]
    },
    {
      "cell_type": "markdown",
      "source": [
        "### Set"
      ],
      "metadata": {
        "id": "UA1vnGMcm1Q-"
      }
    },
    {
      "cell_type": "code",
      "source": [
        "set([1,2,2,3,3,4,4,4,4,4])"
      ],
      "metadata": {
        "colab": {
          "base_uri": "https://localhost:8080/"
        },
        "id": "tb97-4jWm26P",
        "outputId": "f2737a76-a994-4544-ac02-7bb8e36ac842"
      },
      "execution_count": null,
      "outputs": [
        {
          "output_type": "execute_result",
          "data": {
            "text/plain": [
              "{1, 2, 3, 4}"
            ]
          },
          "metadata": {},
          "execution_count": 2
        }
      ]
    },
    {
      "cell_type": "code",
      "source": [
        "a = {1, 2, 3, 4, 5}\n",
        "b = {3, 4, 5, 6, 7, 8}\n",
        "a = a.union(b)\n",
        "print(a)\n"
      ],
      "metadata": {
        "colab": {
          "base_uri": "https://localhost:8080/"
        },
        "id": "4SPguVuZnDW3",
        "outputId": "96ef1d87-2fe5-4c35-d57c-9c625d83cb56"
      },
      "execution_count": null,
      "outputs": [
        {
          "output_type": "stream",
          "name": "stdout",
          "text": [
            "{1, 2, 3, 4, 5, 6, 7, 8}\n"
          ]
        }
      ]
    },
    {
      "cell_type": "code",
      "source": [
        "a = {1, 2, 3, 4, 5}\n",
        "b = {3, 4, 5, 6, 7, 8}\n",
        "a.update(b)\n",
        "print(a)"
      ],
      "metadata": {
        "colab": {
          "base_uri": "https://localhost:8080/"
        },
        "id": "lGwy_A97n7vD",
        "outputId": "84dc63f4-5147-4f5d-b62a-b505d8d64834"
      },
      "execution_count": null,
      "outputs": [
        {
          "output_type": "stream",
          "name": "stdout",
          "text": [
            "{1, 2, 3, 4, 5, 6, 7, 8}\n"
          ]
        }
      ]
    },
    {
      "cell_type": "code",
      "source": [
        "# all elements in a set must be immutable/hashable\n",
        "# that means we cannot store a list in a set\n",
        "# in order to store a list-like object, we should convert it to a tuple first\n",
        "a = [1, 2, 3]\n",
        "b = {tuple(a)}\n",
        "print(b)"
      ],
      "metadata": {
        "colab": {
          "base_uri": "https://localhost:8080/"
        },
        "id": "JlyFCVea6qYG",
        "outputId": "cfcf29ff-d524-42a8-bdc9-df4c0c8297e5"
      },
      "execution_count": null,
      "outputs": [
        {
          "output_type": "stream",
          "name": "stdout",
          "text": [
            "{(1, 2, 3)}\n"
          ]
        }
      ]
    },
    {
      "cell_type": "code",
      "source": [
        "c = [4,5,6]\n",
        "b.add(tuple(c))\n",
        "print(b)"
      ],
      "metadata": {
        "colab": {
          "base_uri": "https://localhost:8080/"
        },
        "id": "PedMUSnRB9xK",
        "outputId": "7418a7d3-61ba-4812-dbaf-f0a431bbe3b6"
      },
      "execution_count": null,
      "outputs": [
        {
          "output_type": "stream",
          "name": "stdout",
          "text": [
            "{(1, 2, 3), (4, 5, 6)}\n"
          ]
        }
      ]
    },
    {
      "cell_type": "code",
      "source": [
        "a_set = {1, 2, 3, 4, 5}\n",
        "{1, 2, 3}.issubset(a_set)"
      ],
      "metadata": {
        "colab": {
          "base_uri": "https://localhost:8080/"
        },
        "id": "LoJXLqrkCcuw",
        "outputId": "9fc49826-68e3-43e3-b74f-c4d558a78afa"
      },
      "execution_count": null,
      "outputs": [
        {
          "output_type": "execute_result",
          "data": {
            "text/plain": [
              "True"
            ]
          },
          "metadata": {},
          "execution_count": 12
        }
      ]
    },
    {
      "cell_type": "code",
      "source": [
        "{1,2,3} == {3,2,1}"
      ],
      "metadata": {
        "colab": {
          "base_uri": "https://localhost:8080/"
        },
        "id": "spB6XT7PC5dg",
        "outputId": "15a3c4d7-eacb-44eb-968b-ef4206ed6958"
      },
      "execution_count": null,
      "outputs": [
        {
          "output_type": "execute_result",
          "data": {
            "text/plain": [
              "True"
            ]
          },
          "metadata": {},
          "execution_count": 13
        }
      ]
    },
    {
      "cell_type": "markdown",
      "source": [
        "### Built-In Sequence Functions"
      ],
      "metadata": {
        "id": "RPmPBHYrDIxI"
      }
    },
    {
      "cell_type": "markdown",
      "source": [
        "#### enumerate"
      ],
      "metadata": {
        "id": "7B0WGhrqI550"
      }
    },
    {
      "cell_type": "code",
      "source": [
        "list_a = ['foo', 'bar', 'baz']\n",
        "mapping = {}\n",
        "for i, v in enumerate(list_a):\n",
        "  mapping[v] = i\n",
        "print(mapping)"
      ],
      "metadata": {
        "colab": {
          "base_uri": "https://localhost:8080/"
        },
        "id": "goWeiYjiIODR",
        "outputId": "abf668ef-b5fb-4048-ab05-4962408a7dc9"
      },
      "execution_count": null,
      "outputs": [
        {
          "output_type": "stream",
          "name": "stdout",
          "text": [
            "{'foo': 0, 'bar': 1, 'baz': 2}\n"
          ]
        }
      ]
    },
    {
      "cell_type": "code",
      "source": [
        "for i, v in enumerate(mapping):\n",
        "  print(i)\n",
        "  print(v)"
      ],
      "metadata": {
        "colab": {
          "base_uri": "https://localhost:8080/"
        },
        "id": "J8n8ZoyOJ_PZ",
        "outputId": "1d60027b-4ea5-425c-d702-5f83ef944948"
      },
      "execution_count": null,
      "outputs": [
        {
          "output_type": "stream",
          "name": "stdout",
          "text": [
            "0\n",
            "foo\n",
            "1\n",
            "bar\n",
            "2\n",
            "baz\n"
          ]
        }
      ]
    },
    {
      "cell_type": "code",
      "source": [
        "a = \"horse race\"\n",
        "b = list(a)\n",
        "print(b)\n",
        "b.sort()\n",
        "print(b)\n"
      ],
      "metadata": {
        "colab": {
          "base_uri": "https://localhost:8080/"
        },
        "id": "w_gXNhphKXSB",
        "outputId": "d98bc8fb-605a-4c85-878c-5722b05d2ae7"
      },
      "execution_count": null,
      "outputs": [
        {
          "output_type": "stream",
          "name": "stdout",
          "text": [
            "['h', 'o', 'r', 's', 'e', ' ', 'r', 'a', 'c', 'e']\n",
            "[' ', 'a', 'c', 'e', 'e', 'h', 'o', 'r', 'r', 's']\n"
          ]
        }
      ]
    },
    {
      "cell_type": "markdown",
      "source": [
        "### zip"
      ],
      "metadata": {
        "id": "NF1aXnh2K5FQ"
      }
    },
    {
      "cell_type": "code",
      "source": [
        "seq1 = ['foo', 'bar', 'baz']\n",
        "seq2 = ['one', 'two', 'three']\n",
        "zipped = zip(seq1, seq2)\n",
        "print(list(zipped))\n",
        "\n",
        "# the zip object can only be used once\n",
        "print(dict(zipped))"
      ],
      "metadata": {
        "colab": {
          "base_uri": "https://localhost:8080/"
        },
        "id": "sRnHN-YBRY3B",
        "outputId": "1e557a83-f4e2-423e-fdb8-31b718e941ec"
      },
      "execution_count": null,
      "outputs": [
        {
          "output_type": "stream",
          "name": "stdout",
          "text": [
            "[('foo', 'one'), ('bar', 'two'), ('baz', 'three')]\n",
            "{}\n"
          ]
        }
      ]
    },
    {
      "cell_type": "code",
      "source": [
        "# zip can take an arbitrary number of sequences, and the number\n",
        "# of elements it produces is determined by the shortest sequence\n",
        "seq3 = [True, False]\n",
        "print(list(zip(seq1, seq2, seq3)))"
      ],
      "metadata": {
        "id": "_7PHF_BJRt2j",
        "colab": {
          "base_uri": "https://localhost:8080/"
        },
        "outputId": "6fe9a771-6902-40a1-80d7-4f803941ad71"
      },
      "execution_count": null,
      "outputs": [
        {
          "output_type": "stream",
          "name": "stdout",
          "text": [
            "[('foo', 'one', True), ('bar', 'two', False)]\n"
          ]
        }
      ]
    },
    {
      "cell_type": "code",
      "source": [
        "for index, values in enumerate(zip(seq1, seq2)):\n",
        "  print(values)"
      ],
      "metadata": {
        "colab": {
          "base_uri": "https://localhost:8080/"
        },
        "id": "lGDzIWCNZczy",
        "outputId": "d675e698-db09-4e65-c6f9-b2097a8cc1cf"
      },
      "execution_count": null,
      "outputs": [
        {
          "output_type": "stream",
          "name": "stdout",
          "text": [
            "('foo', 'one')\n",
            "('bar', 'two')\n",
            "('baz', 'three')\n"
          ]
        }
      ]
    },
    {
      "cell_type": "markdown",
      "source": [
        "### Reversed\n"
      ],
      "metadata": {
        "id": "DP_JyGoSZvB9"
      }
    },
    {
      "cell_type": "code",
      "source": [
        "seq4 = list(range(10, 0, -1))\n",
        "print(seq4)\n",
        "\n",
        "# reversed is a generator, so it does not create\n",
        "# the reversed sequence until materrialized\n",
        "reversed_seq4 = reversed(seq4)\n",
        "print(reversed_seq4)\n",
        "print(list(reversed_seq4))"
      ],
      "metadata": {
        "colab": {
          "base_uri": "https://localhost:8080/"
        },
        "id": "AihmboOYZyzH",
        "outputId": "f2982a99-a714-49b1-88ae-6fd7b717098b"
      },
      "execution_count": null,
      "outputs": [
        {
          "output_type": "stream",
          "name": "stdout",
          "text": [
            "[10, 9, 8, 7, 6, 5, 4, 3, 2, 1]\n",
            "<list_reverseiterator object at 0x7b69366324a0>\n",
            "[1, 2, 3, 4, 5, 6, 7, 8, 9, 10]\n"
          ]
        }
      ]
    },
    {
      "cell_type": "markdown",
      "source": [
        "## List, Set and Dictionary Comprehensions"
      ],
      "metadata": {
        "id": "JJArX9fob2Jk"
      }
    },
    {
      "cell_type": "code",
      "source": [
        "strings = [\"a\", \"as\", \"bat\", \"car\", \"dove\", \"python\"]\n",
        "seq = [x.title() for x in strings if len(x) > 2]\n",
        "print(seq)"
      ],
      "metadata": {
        "colab": {
          "base_uri": "https://localhost:8080/"
        },
        "id": "YBP6KfzGb6zy",
        "outputId": "0d5e3383-b30f-447f-a6fe-273a90ad3137"
      },
      "execution_count": null,
      "outputs": [
        {
          "output_type": "stream",
          "name": "stdout",
          "text": [
            "['Bat', 'Car', 'Dove', 'Python']\n"
          ]
        }
      ]
    },
    {
      "cell_type": "code",
      "source": [
        "unique_lengths = {len(x) for x in strings}\n",
        "print(unique_lengths)"
      ],
      "metadata": {
        "colab": {
          "base_uri": "https://localhost:8080/"
        },
        "id": "CyAe1WHqdeJt",
        "outputId": "1fba2421-8a6f-4436-bcf1-2f5e97bc234d"
      },
      "execution_count": null,
      "outputs": [
        {
          "output_type": "stream",
          "name": "stdout",
          "text": [
            "{1, 2, 3, 4, 6}\n"
          ]
        }
      ]
    },
    {
      "cell_type": "code",
      "source": [
        "loc_mapping = {value: index for index, value in enumerate(strings)}\n",
        "print(loc_mapping)"
      ],
      "metadata": {
        "colab": {
          "base_uri": "https://localhost:8080/"
        },
        "id": "CcsuXuidee9H",
        "outputId": "3076cf1b-49eb-425a-d347-44069d591bda"
      },
      "execution_count": null,
      "outputs": [
        {
          "output_type": "stream",
          "name": "stdout",
          "text": [
            "{'a': 0, 'as': 1, 'bat': 2, 'car': 3, 'dove': 4, 'python': 5}\n"
          ]
        }
      ]
    },
    {
      "cell_type": "markdown",
      "source": [
        "### Nested list comprehensions"
      ],
      "metadata": {
        "id": "QqDtJaowfJcG"
      }
    },
    {
      "cell_type": "code",
      "source": [
        "# assume we want to get a single list containing all names with two or more a's in them\n",
        "all_data = [['John', 'Emily', 'Michael', 'Mary', 'Steven'],\n",
        "            ['Maria', 'Juan', 'Javier', 'Natalia', 'Pilar']]\n",
        "\n",
        "# solution 1\n",
        "results = []\n",
        "for names in all_data:\n",
        "    sub_list = [name for name in names if name.count('a') >= 2]\n",
        "    results.extend(sub_list)\n",
        "\n",
        "print(results)"
      ],
      "metadata": {
        "colab": {
          "base_uri": "https://localhost:8080/"
        },
        "id": "G9zjNagYfNGU",
        "outputId": "37567a87-4d3d-4522-c090-b81a4570f54f"
      },
      "execution_count": null,
      "outputs": [
        {
          "output_type": "stream",
          "name": "stdout",
          "text": [
            "['Maria', 'Natalia']\n"
          ]
        }
      ]
    },
    {
      "cell_type": "code",
      "source": [
        "# solution 2\n",
        "results = [name for names in all_data for name in names if name.count('a') >= 2]\n",
        "print(results)"
      ],
      "metadata": {
        "colab": {
          "base_uri": "https://localhost:8080/"
        },
        "id": "hRl-7FLpgXaR",
        "outputId": "a65d01f5-b779-4b88-bdec-8ff3196459f3"
      },
      "execution_count": null,
      "outputs": [
        {
          "output_type": "stream",
          "name": "stdout",
          "text": [
            "['Maria', 'Natalia']\n"
          ]
        }
      ]
    },
    {
      "cell_type": "markdown",
      "source": [
        "## 3.2 Functions"
      ],
      "metadata": {
        "id": "SwiRaiGvoQyj"
      }
    },
    {
      "cell_type": "markdown",
      "source": [
        "### Lambda Functions"
      ],
      "metadata": {
        "id": "q6qsr001oaEY"
      }
    },
    {
      "cell_type": "code",
      "source": [
        "# sort a list based on the number of unique characters in each element\n",
        "strings = [\"foo\", \"card\", \"bar\", \"aaaa\"]\n",
        "strings.sort(key=lambda x: len(set(x)))\n",
        "print(strings)"
      ],
      "metadata": {
        "colab": {
          "base_uri": "https://localhost:8080/"
        },
        "id": "4Gg8xj_0hMXv",
        "outputId": "e3a16033-1415-4000-b880-c48b238cd6b2"
      },
      "execution_count": null,
      "outputs": [
        {
          "output_type": "stream",
          "name": "stdout",
          "text": [
            "['aaaa', 'foo', 'bar', 'card']\n"
          ]
        }
      ]
    },
    {
      "cell_type": "code",
      "source": [
        "import itertools\n",
        "\n",
        "itertools.permutations(strings, 3)\n",
        "for _ in itertools.permutations(strings, 3):\n",
        "    print(_)\n",
        "\n",
        "print(\"####\")\n",
        "\n",
        "for _ in itertools.combinations(strings, 2):\n",
        "    print(_)"
      ],
      "metadata": {
        "colab": {
          "base_uri": "https://localhost:8080/"
        },
        "id": "bVdQP437omZd",
        "outputId": "dd4813b3-331b-4dbe-d00f-c65ddc7a7239"
      },
      "execution_count": null,
      "outputs": [
        {
          "output_type": "stream",
          "name": "stdout",
          "text": [
            "('aaaa', 'foo', 'bar')\n",
            "('aaaa', 'foo', 'card')\n",
            "('aaaa', 'bar', 'foo')\n",
            "('aaaa', 'bar', 'card')\n",
            "('aaaa', 'card', 'foo')\n",
            "('aaaa', 'card', 'bar')\n",
            "('foo', 'aaaa', 'bar')\n",
            "('foo', 'aaaa', 'card')\n",
            "('foo', 'bar', 'aaaa')\n",
            "('foo', 'bar', 'card')\n",
            "('foo', 'card', 'aaaa')\n",
            "('foo', 'card', 'bar')\n",
            "('bar', 'aaaa', 'foo')\n",
            "('bar', 'aaaa', 'card')\n",
            "('bar', 'foo', 'aaaa')\n",
            "('bar', 'foo', 'card')\n",
            "('bar', 'card', 'aaaa')\n",
            "('bar', 'card', 'foo')\n",
            "('card', 'aaaa', 'foo')\n",
            "('card', 'aaaa', 'bar')\n",
            "('card', 'foo', 'aaaa')\n",
            "('card', 'foo', 'bar')\n",
            "('card', 'bar', 'aaaa')\n",
            "('card', 'bar', 'foo')\n",
            "####\n",
            "('aaaa', 'foo')\n",
            "('aaaa', 'bar')\n",
            "('aaaa', 'card')\n",
            "('foo', 'bar')\n",
            "('foo', 'card')\n",
            "('bar', 'card')\n"
          ]
        }
      ]
    },
    {
      "cell_type": "markdown",
      "source": [
        "### Errors and Exception Handling"
      ],
      "metadata": {
        "id": "2uBR_O25xGyi"
      }
    },
    {
      "cell_type": "code",
      "source": [
        "def attempt_float(x):\n",
        "    try:\n",
        "        return float(x)\n",
        "    except:\n",
        "        print(f\"{x} cannot be converted to a float number.\")\n",
        "        return x\n"
      ],
      "metadata": {
        "id": "FafneB3dr-Wc"
      },
      "execution_count": null,
      "outputs": []
    },
    {
      "cell_type": "code",
      "source": [
        "a = \"1.234\"\n",
        "b = \"Tuesday\"\n",
        "\n",
        "print(attempt_float(a))\n",
        "print(attempt_float(b))"
      ],
      "metadata": {
        "id": "3kIFzGYPxKWJ",
        "colab": {
          "base_uri": "https://localhost:8080/"
        },
        "outputId": "cfa97e71-4120-4566-a055-8d12718684d6"
      },
      "execution_count": null,
      "outputs": [
        {
          "output_type": "stream",
          "name": "stdout",
          "text": [
            "1.234\n",
            "Tuesday cannot be converted to a float number.\n",
            "Tuesday\n"
          ]
        }
      ]
    },
    {
      "cell_type": "markdown",
      "source": [
        "## 3.3 Files and the Operating System"
      ],
      "metadata": {
        "id": "vOhLZA1X2IHZ"
      }
    },
    {
      "cell_type": "code",
      "source": [
        "from google.colab import drive\n",
        "drive.mount('/content/drive')"
      ],
      "metadata": {
        "colab": {
          "base_uri": "https://localhost:8080/"
        },
        "id": "Qv75bhM02NKA",
        "outputId": "ffcf86fe-4812-432e-92c4-f74b8a9c79e4"
      },
      "execution_count": null,
      "outputs": [
        {
          "output_type": "stream",
          "name": "stdout",
          "text": [
            "Mounted at /content/drive\n"
          ]
        }
      ]
    },
    {
      "cell_type": "code",
      "source": [
        "!ls \"/content/drive/Othercomputers/My MacBook Pro/python_for_data_analysis/examples\""
      ],
      "metadata": {
        "colab": {
          "base_uri": "https://localhost:8080/"
        },
        "id": "pJNJ7-QT3IFN",
        "outputId": "0a28b2f6-7d4b-41c6-c1fe-d746d4fb8600"
      },
      "execution_count": null,
      "outputs": [
        {
          "output_type": "stream",
          "name": "stdout",
          "text": [
            "array_ex.txt\tex3.txt  example.json\t\t     spx.csv\t    tseries.csv\n",
            "csv_mindex.csv\tex4.csv  fdic_failed_bank_list.html  stinkbug.png   volume.csv\n",
            "ex1.csv\t\tex5.csv  ipython_bug.py\t\t     stock_px.csv   yahoo_price.pkl\n",
            "ex1.xlsx\tex6.csv  macrodata.csv\t\t     test_file.csv  yahoo_volume.pkl\n",
            "ex2.csv\t\tex7.csv  segismundo.txt\t\t     tips.csv\n"
          ]
        }
      ]
    },
    {
      "cell_type": "code",
      "source": [
        "path = \"/content/drive/Othercomputers/My MacBook Pro/python_for_data_analysis/examples/segismundo.txt\"\n",
        "f = open(path, encoding=\"utf-8\")"
      ],
      "metadata": {
        "id": "aTKolfCU3P_q"
      },
      "execution_count": null,
      "outputs": []
    },
    {
      "cell_type": "code",
      "source": [
        "for line in f:\n",
        "    print(line)"
      ],
      "metadata": {
        "id": "23wkEycA3cPG",
        "outputId": "395d48e4-e86f-408a-f736-61d447bf314b",
        "colab": {
          "base_uri": "https://localhost:8080/"
        }
      },
      "execution_count": null,
      "outputs": [
        {
          "output_type": "stream",
          "name": "stdout",
          "text": [
            "Sueña el rico en su riqueza,\n",
            "\n",
            "que más cuidados le ofrece;\n",
            "\n",
            "\n",
            "\n",
            "sueña el pobre que padece\n",
            "\n",
            "su miseria y su pobreza;\n",
            "\n",
            "\n",
            "\n",
            "sueña el que a medrar empieza,\n",
            "\n",
            "sueña el que afana y pretende,\n",
            "\n",
            "sueña el que agravia y ofende,\n",
            "\n",
            "\n",
            "\n",
            "y en el mundo, en conclusión,\n",
            "\n",
            "todos sueñan lo que son,\n",
            "\n",
            "aunque ninguno lo entiende.\n",
            "\n",
            "\n",
            "\n"
          ]
        }
      ]
    }
  ],
  "metadata": {
    "kernelspec": {
      "display_name": "Python 3",
      "language": "python",
      "name": "python3"
    },
    "language_info": {
      "codemirror_mode": {
        "name": "ipython",
        "version": 3
      },
      "file_extension": ".py",
      "mimetype": "text/x-python",
      "name": "python",
      "nbconvert_exporter": "python",
      "pygments_lexer": "ipython3",
      "version": "3.11.6"
    },
    "colab": {
      "provenance": []
    }
  },
  "nbformat": 4,
  "nbformat_minor": 0
}