{
  "cells": [
    {
      "cell_type": "markdown",
      "metadata": {
        "id": "TXR1fw3kymEi"
      },
      "source": [
        "# Chapter 2. Python Language Basics, IPython and Jupyter Notebooks"
      ]
    },
    {
      "cell_type": "markdown",
      "metadata": {
        "id": "ToDrlFreymEj"
      },
      "source": [
        "## 2.3 Python Language Basics"
      ]
    },
    {
      "cell_type": "code",
      "execution_count": null,
      "metadata": {
        "id": "4Ttd4WehymEk",
        "outputId": "9b3bf26e-6143-4c14-eb4c-1e9a98110c33",
        "colab": {
          "base_uri": "https://localhost:8080/"
        }
      },
      "outputs": [
        {
          "output_type": "stream",
          "name": "stdout",
          "text": [
            "[1, 2, 3, 4]\n"
          ]
        }
      ],
      "source": [
        "a = [1, 2, 3]\n",
        "b = a\n",
        "a.append(4)\n",
        "print(b)"
      ]
    },
    {
      "cell_type": "code",
      "execution_count": null,
      "metadata": {
        "id": "NKVy9KudymEl"
      },
      "outputs": [],
      "source": [
        "def append_element(some_list, element):\n",
        "    some_list.append(element)"
      ]
    },
    {
      "cell_type": "code",
      "execution_count": null,
      "metadata": {
        "id": "gQemwz1OymEl",
        "outputId": "d6ac3085-ff3c-484d-d8ad-b88e0f716221",
        "colab": {
          "base_uri": "https://localhost:8080/"
        }
      },
      "outputs": [
        {
          "output_type": "stream",
          "name": "stdout",
          "text": [
            "[1, 2, 3, 5]\n"
          ]
        }
      ],
      "source": [
        "data = [1,2,3]\n",
        "append_element(data, 5)\n",
        "print(data)"
      ]
    },
    {
      "cell_type": "code",
      "execution_count": null,
      "metadata": {
        "id": "8Y_g4cKjymEm",
        "colab": {
          "base_uri": "https://localhost:8080/"
        },
        "outputId": "938e0f3b-a344-4fa7-a8a4-4709ea343722"
      },
      "outputs": [
        {
          "output_type": "stream",
          "name": "stdout",
          "text": [
            "True\n",
            "False\n"
          ]
        }
      ],
      "source": [
        "# To check if two variable refer to the same object, use is\n",
        "a = [1, 2, 3]\n",
        "b = a\n",
        "c = list(a) # list(a) will create a copy of a\n",
        "print(a is b)\n",
        "print(a is c)"
      ]
    },
    {
      "cell_type": "markdown",
      "source": [
        "### String"
      ],
      "metadata": {
        "id": "aifecvHM4GBq"
      }
    },
    {
      "cell_type": "code",
      "source": [
        "# r stand for raw string\n",
        "s = r\"this\\has\\no\\special\\characters\"\n",
        "print(s)"
      ],
      "metadata": {
        "id": "Te8qI01W7FZ_",
        "colab": {
          "base_uri": "https://localhost:8080/"
        },
        "outputId": "4e0161d7-4397-4e11-84f6-ac18c9857ec1"
      },
      "execution_count": null,
      "outputs": [
        {
          "output_type": "stream",
          "name": "stdout",
          "text": [
            "this\\has\\no\\special\\characters\n"
          ]
        }
      ]
    },
    {
      "cell_type": "code",
      "source": [
        "# f stand for format string\n",
        "amount = 10\n",
        "rate = 88.46\n",
        "currency = \"Pesos\"\n",
        "result = f\"{amount} {currency} is worth US ${amount/rate:.2f}\"\n",
        "print(result)"
      ],
      "metadata": {
        "colab": {
          "base_uri": "https://localhost:8080/"
        },
        "id": "dLLQnWY9sMFj",
        "outputId": "2b1e685a-a6aa-43b5-8b02-171d97a49b47"
      },
      "execution_count": null,
      "outputs": [
        {
          "output_type": "stream",
          "name": "stdout",
          "text": [
            "10 Pesos is worth US $0.11\n"
          ]
        }
      ]
    },
    {
      "cell_type": "markdown",
      "source": [
        "### Dates and times"
      ],
      "metadata": {
        "id": "ma9QF6uV4S25"
      }
    },
    {
      "cell_type": "code",
      "source": [
        "from datetime import datetime, date, time"
      ],
      "metadata": {
        "id": "mwzRIngAsRsb"
      },
      "execution_count": null,
      "outputs": []
    },
    {
      "cell_type": "code",
      "source": [
        "dt1 = datetime(2011, 10, 29)"
      ],
      "metadata": {
        "id": "x53BwjbKsOko"
      },
      "execution_count": null,
      "outputs": []
    },
    {
      "cell_type": "code",
      "source": [
        "print(dt1.day)\n",
        "print(dt1.minute)"
      ],
      "metadata": {
        "colab": {
          "base_uri": "https://localhost:8080/"
        },
        "id": "pwWeF6Kq4k_3",
        "outputId": "665a9de3-f4a2-4d2a-c3b4-7853ee33fbb3"
      },
      "execution_count": null,
      "outputs": [
        {
          "output_type": "stream",
          "name": "stdout",
          "text": [
            "29\n",
            "0\n"
          ]
        }
      ]
    },
    {
      "cell_type": "code",
      "source": [
        "dt2 = datetime(2022, 10, 20, 8, 16, 44)"
      ],
      "metadata": {
        "id": "irQ4sDbc5AiS"
      },
      "execution_count": null,
      "outputs": []
    },
    {
      "cell_type": "code",
      "source": [
        "print(dt2.year)\n",
        "print(dt2.day)\n",
        "print(dt2.hour)\n",
        "print(dt2.minute)"
      ],
      "metadata": {
        "colab": {
          "base_uri": "https://localhost:8080/"
        },
        "id": "Bo7aZX9v5I00",
        "outputId": "e35f1f55-606b-4d4b-b621-26d787cdff49"
      },
      "execution_count": null,
      "outputs": [
        {
          "output_type": "stream",
          "name": "stdout",
          "text": [
            "2022\n",
            "20\n",
            "8\n",
            "16\n"
          ]
        }
      ]
    },
    {
      "cell_type": "code",
      "source": [
        "delta = dt2 - dt1\n",
        "delta"
      ],
      "metadata": {
        "colab": {
          "base_uri": "https://localhost:8080/"
        },
        "id": "lC7_kDMf5pIo",
        "outputId": "173c1b1b-64a4-475d-8d42-3000d5b14120"
      },
      "execution_count": null,
      "outputs": [
        {
          "output_type": "execute_result",
          "data": {
            "text/plain": [
              "datetime.timedelta(days=4009, seconds=29804)"
            ]
          },
          "metadata": {},
          "execution_count": 18
        }
      ]
    },
    {
      "cell_type": "code",
      "source": [
        "dt3 = dt1 + delta\n",
        "dt3"
      ],
      "metadata": {
        "id": "zAVd2X_m5-B3",
        "outputId": "fe42755b-f57f-4e0f-ab7d-218bf1053179",
        "colab": {
          "base_uri": "https://localhost:8080/"
        }
      },
      "execution_count": null,
      "outputs": [
        {
          "output_type": "execute_result",
          "data": {
            "text/plain": [
              "datetime.datetime(2022, 10, 20, 8, 16, 44)"
            ]
          },
          "metadata": {},
          "execution_count": 19
        }
      ]
    }
  ],
  "metadata": {
    "kernelspec": {
      "display_name": "Python 3",
      "language": "python",
      "name": "python3"
    },
    "language_info": {
      "codemirror_mode": {
        "name": "ipython",
        "version": 3
      },
      "file_extension": ".py",
      "mimetype": "text/x-python",
      "name": "python",
      "nbconvert_exporter": "python",
      "pygments_lexer": "ipython3",
      "version": "3.7.7"
    },
    "colab": {
      "provenance": []
    }
  },
  "nbformat": 4,
  "nbformat_minor": 0
}